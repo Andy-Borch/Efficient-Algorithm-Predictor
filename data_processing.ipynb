{
 "cells": [
  {
   "cell_type": "code",
   "execution_count": 2,
   "id": "d07d745c-a40e-414e-bdd4-17493c47fda4",
   "metadata": {},
   "outputs": [],
   "source": [
    "import numpy as np\n",
    "from numpy import genfromtxt\n",
    "import csv"
   ]
  },
  {
   "cell_type": "code",
   "execution_count": 3,
   "id": "86155604-3e00-4418-8121-9c3374fc0c34",
   "metadata": {},
   "outputs": [],
   "source": [
    "def load_data():\n",
    "    with open('./data/data_no_pandas.csv', 'r') as data_file:\n",
    "        reader = csv.reader(data_file)\n",
    "        matrix = [row for row in reader]\n",
    "    return matrix\n",
    "    \n",
    "def load_features():\n",
    "    with open('./data/features_no_pandas.csv', 'r') as data_file:\n",
    "        reader = csv.reader(data_file)\n",
    "        matrix = [row for row in reader]\n",
    "    return matrix\n",
    "\n",
    "def standardize(matrix):\n",
    "    return (matrix - np.mean(matrix, axis=0)) / np.std(matrix, axis=0)"
   ]
  },
  {
   "cell_type": "code",
   "execution_count": 23,
   "id": "ebfd0c11-e625-428a-b0ed-2d1faa361246",
   "metadata": {},
   "outputs": [
    {
     "name": "stdout",
     "output_type": "stream",
     "text": [
      "Standard Deviation of each Row should be 1:  [1. 1. 1. 1.]\n",
      "Mean of each Row should be 0:  [ 0. -0.  0.  0.]\n",
      "[['0.06242670662713743' '1.0254703036245443' '0.12273230816915853' ...\n",
      "  '0.00952' '0.04909' '0.08446']\n",
      " ['0.18520101134481043' '-1.1762929730387477' '-0.0058154681806392' ...\n",
      "  '0.01123' '0.09263' '0.00281']\n",
      " ['1.294457110476548' '1.8825286613237624' '0.7565714297471555' ...\n",
      "  '0.02421' '0.25863' '0.00553']\n",
      " ...\n",
      " ['-0.1952044534312176' '-0.5667519916117885' '-0.2237567346024221' ...\n",
      "  '0.00749' '0.03315' '0.00188']\n",
      " ['1.4523097879706992' '0.35502898333450483' '-0.5021654342119404' ...\n",
      "  '0.01907' '0.18537' '0.00563']\n",
      " ['0.6069210040575793' '0.482012464012999' '-0.9596547459620748' ...\n",
      "  '0.0419' '0.69086' '0.00969']]\n"
     ]
    }
   ],
   "source": [
    "features_list = load_features()\n",
    "\n",
    "features = np.array(features_list)\n",
    "features = features[:-1, :]\n",
    "features_to_standardize = features[:, :4]\n",
    "\n",
    "floats = features_to_standardize.astype(float)\n",
    "standardized = standardize(floats)\n",
    "\n",
    "print(\"Standard Deviation of each Row should be 1: \", np.std(standardized, axis=0))\n",
    "print(\"Mean of each Row should be 0: \", np.round(np.mean(standardized, axis=0)))\n",
    "\n",
    "features[:, 0:4] = standardized\n",
    "print(features)"
   ]
  },
  {
   "cell_type": "code",
   "execution_count": 29,
   "id": "eb0cc24a-9159-4b2c-9a61-b45582ced557",
   "metadata": {},
   "outputs": [],
   "source": [
    "def write_to_csv(array, filepath, mode='a'):\n",
    "    with open(filepath, mode, newline='') as f:\n",
    "        writer = csv.writer(f)\n",
    "        writer.writerow(array)\n",
    "\n",
    "for x in range(len(features)):\n",
    "    write_to_csv(features[x], \"./data/standardized_features.csv\")"
   ]
  },
  {
   "cell_type": "code",
   "execution_count": null,
   "id": "bca6323b-085a-45f3-b3e6-266955381d16",
   "metadata": {},
   "outputs": [],
   "source": []
  }
 ],
 "metadata": {
  "kernelspec": {
   "display_name": "Python 3 (ipykernel)",
   "language": "python",
   "name": "python3"
  },
  "language_info": {
   "codemirror_mode": {
    "name": "ipython",
    "version": 3
   },
   "file_extension": ".py",
   "mimetype": "text/x-python",
   "name": "python",
   "nbconvert_exporter": "python",
   "pygments_lexer": "ipython3",
   "version": "3.11.5"
  }
 },
 "nbformat": 4,
 "nbformat_minor": 5
}
