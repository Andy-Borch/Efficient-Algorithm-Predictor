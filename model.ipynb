{
 "cells": [
  {
   "cell_type": "code",
   "execution_count": 2,
   "id": "6e7ecc8c-a1a6-4e44-89ed-11cfa92053d0",
   "metadata": {},
   "outputs": [],
   "source": [
    "import numpy as np\n",
    "import csv"
   ]
  },
  {
   "cell_type": "code",
   "execution_count": 3,
   "id": "bd7f581e-3146-46f4-99bd-7670a455b10d",
   "metadata": {},
   "outputs": [],
   "source": [
    "def load_data():\n",
    "    with open('./data/data_no_pandas.csv', 'r') as data_file:\n",
    "        reader = csv.reader(data_file)\n",
    "        matrix = [row for row in reader]\n",
    "    return matrix\n",
    "    \n",
    "def load_features():\n",
    "    with open('./data/mock_timings.csv', 'r') as data_file:\n",
    "        reader = csv.reader(data_file)\n",
    "        matrix = [row for row in reader]\n",
    "    return matrix\n",
    "\n",
    "def standardize(matrix):\n",
    "    return (matrix - np.mean(matrix, axis=0)) / np.std(matrix, axis=0)"
   ]
  },
  {
   "cell_type": "code",
   "execution_count": 7,
   "id": "3982ee82-1429-4598-8424-940695b9ece8",
   "metadata": {},
   "outputs": [
    {
     "name": "stdout",
     "output_type": "stream",
     "text": [
      "Standard Deviation of each Row should be 1:  [1. 1. 1. 1.]\n",
      "Mean of each Row should be 0:  [-0. -0. -0.  0.]\n",
      "(1000, 4)\n",
      "(1000,)\n"
     ]
    }
   ],
   "source": [
    "features_list = load_features()\n",
    "#print(features_list[1:])\n",
    "features = np.array(features_list[1:])\n",
    "floats = features.astype(float)\n",
    "training_features = floats[:, 0:9]\n",
    "\n",
    "features_to_standardize = features[:, :4]\n",
    "\n",
    "floats = features_to_standardize.astype(float)\n",
    "standardized = standardize(floats)\n",
    "\n",
    "print(\"Standard Deviation of each Row should be 1: \", np.std(standardized, axis=0))\n",
    "print(\"Mean of each Row should be 0: \", np.round(np.mean(standardized, axis=0)))\n",
    "\n",
    "print(np.shape(standardized))\n",
    "timing_labels = np.argmin(training_features[:, 4:], axis=1)\n",
    "print(np.shape(timing_labels))\n",
    "\n",
    "X = standardized\n",
    "y = timing_labels\n"
   ]
  },
  {
   "cell_type": "code",
   "execution_count": 10,
   "id": "749db80a-6a1e-4b96-a897-7b68929fe19d",
   "metadata": {},
   "outputs": [
    {
     "name": "stdout",
     "output_type": "stream",
     "text": [
      "SVM accuracy:  0.7933333333333333\n",
      "Forest accuracy:  0.7933333333333333\n",
      "[0.795 0.76  0.77  0.8   0.795]\n",
      "[0.775 0.755 0.76  0.795 0.775]\n"
     ]
    }
   ],
   "source": [
    "from sklearn.model_selection import train_test_split\n",
    "from sklearn.model_selection import StratifiedKFold\n",
    "from sklearn import svm\n",
    "from sklearn.model_selection import cross_validate\n",
    "from sklearn.model_selection import cross_val_score\n",
    "from sklearn.ensemble import RandomForestClassifier\n",
    "\n",
    "X_train, X_test, y_train, y_test = train_test_split(\n",
    "    X, y, test_size=0.3, random_state=2)\n",
    "\n",
    "svc = svm.SVC(kernel=\"rbf\", C=0.5, gamma=2)\n",
    "forest = RandomForestClassifier(n_estimators=100)\n",
    "\n",
    "svc.fit(X_train, y_train)\n",
    "y_pred_svc = svc.predict(X_test)\n",
    "print('SVM accuracy: ', np.mean(y_test == y_pred_svc))\n",
    "\n",
    "forest.fit(X_train, y_train)\n",
    "y_pred_forest = svc.predict(X_test)\n",
    "print('Forest accuracy: ', np.mean(y_test == y_pred_forest))\n",
    "\n",
    "cv = StratifiedKFold(n_splits=5, random_state=5, shuffle=True)\n",
    "\n",
    "svc_accuracy = cross_val_score(svc, standardized, timing_labels, cv=cv, scoring='accuracy')\n",
    "forest_accuracy = cross_val_score(forest, standardized, timing_labels, cv=cv, scoring='accuracy')\n",
    "\n",
    "print(svc_accuracy)\n",
    "print(forest_accuracy)\n"
   ]
  },
  {
   "cell_type": "code",
   "execution_count": 55,
   "id": "2d48e0ec-1c41-4948-8bae-0b36298197bb",
   "metadata": {},
   "outputs": [
    {
     "name": "stdout",
     "output_type": "stream",
     "text": [
      "SVC(C=0.5, gamma=2)\n"
     ]
    }
   ],
   "source": [
    "from sklearn.model_selection import GridSearchCV\n",
    "\n",
    "param_grid = [\n",
    "  {'C': [0.1, 0.5, 1, 3, 5, 7, 10, 25, 50, 100], \n",
    "   'gamma': [0.0001, 0.001, 0.01, 0.1, 1, 1.5, 2, 3], \n",
    "   'kernel': ['rbf']},\n",
    "]\n",
    "\n",
    "classifier = GridSearchCV(svm.SVC(), param_grid)\n",
    "classifier.fit(standardized, timing_labels)\n",
    "print(classifier.best_estimator_)"
   ]
  },
  {
   "cell_type": "code",
   "execution_count": null,
   "id": "9655c155-d7be-4f94-9457-5252ca53b91c",
   "metadata": {},
   "outputs": [],
   "source": []
  }
 ],
 "metadata": {
  "kernelspec": {
   "display_name": "Python 3 (ipykernel)",
   "language": "python",
   "name": "python3"
  },
  "language_info": {
   "codemirror_mode": {
    "name": "ipython",
    "version": 3
   },
   "file_extension": ".py",
   "mimetype": "text/x-python",
   "name": "python",
   "nbconvert_exporter": "python",
   "pygments_lexer": "ipython3",
   "version": "3.11.5"
  }
 },
 "nbformat": 4,
 "nbformat_minor": 5
}
