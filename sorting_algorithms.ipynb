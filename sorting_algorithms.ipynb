{
 "cells": [
  {
   "cell_type": "markdown",
   "id": "b1c7308f",
   "metadata": {},
   "source": [
    "## Sorting algorithms\n",
    "The following code block are the sorting algorithms and helper methods for sorting data"
   ]
  },
  {
   "cell_type": "code",
   "execution_count": 2,
   "id": "50eb37b6",
   "metadata": {},
   "outputs": [],
   "source": [
    "import time\n",
    "import random\n",
    "import numpy as np\n",
    "import pandas as pd\n",
    "import copy\n",
    "import matplotlib.pyplot as plt\n",
    "import csv\n",
    "from array import array\n"
   ]
  },
  {
   "cell_type": "code",
   "execution_count": 3,
   "id": "db64dc24",
   "metadata": {},
   "outputs": [],
   "source": [
    "def merge_sort_helper(arr):\n",
    "    if len(arr) <= 1:\n",
    "        return arr\n",
    "    mid = len(arr) // 2\n",
    "    left = merge_sort_helper(arr[:mid])\n",
    "    right = merge_sort_helper(arr[mid:])\n",
    "    return merge(left, right)\n",
    "\n",
    "def merge(left, right):\n",
    "    result = []\n",
    "    i = j = 0\n",
    "    while i < len(left) and j < len(right):\n",
    "        if left[i] < right[j]:\n",
    "            result.append(left[i])\n",
    "            i += 1\n",
    "        else:\n",
    "            result.append(right[j])\n",
    "            j += 1\n",
    "    result.extend(left[i:])\n",
    "    result.extend(right[j:])\n",
    "    return result\n",
    "\n",
    "def quick_sort_helper(arr):\n",
    "    if len(arr) <= 1:\n",
    "        return arr\n",
    "    #pivot = arr[len(arr) // 2]\n",
    "    pivot = random.choice(arr)\n",
    "    left = [x for x in arr if x < pivot]\n",
    "    middle = [x for x in arr if x == pivot]\n",
    "    right = [x for x in arr if x > pivot]\n",
    "    return quick_sort_helper(left) + middle + quick_sort_helper(right)\n",
    "\n",
    "def heapify(arr, n, i):\n",
    "    largest = i\n",
    "    left = 2 * i + 1\n",
    "    right = 2 * i + 2\n",
    "\n",
    "    if left < n and arr[largest] < arr[left]:\n",
    "        largest = left\n",
    "\n",
    "    if right < n and arr[largest] < arr[right]:\n",
    "        largest = right\n",
    "\n",
    "    if largest != i:\n",
    "        arr[i], arr[largest] = arr[largest], arr[i]\n",
    "        heapify(arr, n, largest)\n",
    "\n",
    "def counting_sort(arr, exp):\n",
    "    n = len(arr)\n",
    "    output = [0] * n\n",
    "    count = [0] * 10\n",
    "\n",
    "    for i in range(n):\n",
    "        index = (arr[i] // exp) % 10\n",
    "        count[index] += 1\n",
    "\n",
    "    for i in range(1, 10):\n",
    "        count[i] += count[i - 1]\n",
    "\n",
    "    i = n - 1\n",
    "    while i >= 0:\n",
    "        index = (arr[i] // exp) % 10\n",
    "        output[count[index] - 1] = arr[i]\n",
    "        count[index] -= 1\n",
    "        i -= 1\n",
    "\n",
    "    for i in range(n):\n",
    "        arr[i] = output[i:][0]\n",
    "\n",
    "def bubble_sort(data):\n",
    "    if isinstance(data, tuple) or isinstance(data, set):\n",
    "        data = list(data)\n",
    "\n",
    "    n = len(data)\n",
    "    for i in range(n):\n",
    "        for j in range(0, n - i - 1):\n",
    "            if data[j] > data[j + 1]:\n",
    "                data[j], data[j + 1] = data[j + 1], data[j]\n",
    "    return data\n",
    "\n",
    "def insertion_sort(data):\n",
    "    if isinstance(data, tuple) or isinstance(data, set):\n",
    "        data = list(data)\n",
    "    for i in range(1, len(data)):\n",
    "        key = data[i]\n",
    "        j = i - 1\n",
    "        while j >= 0 and key < data[j]:\n",
    "            data[j + 1] = data[j]\n",
    "            j -= 1\n",
    "        data[j + 1] = key\n",
    "    return data\n",
    "\n",
    "def merge_sort(data):\n",
    "    if isinstance(data, (tuple, set, pd.Series)):\n",
    "        data = list(data)\n",
    "    return merge_sort_helper(data)\n",
    "\"\"\"\n",
    "def quick_sort(data):\n",
    "    if isinstance(data, tuple) or isinstance(data, set):\n",
    "        data = list(data)\n",
    "    return quick_sort_helper(data)\n",
    "\"\"\"\n",
    "def quick_sort(data):\n",
    "    if isinstance(data, tuple) or isinstance(data, set):\n",
    "        data = list(data)\n",
    "\n",
    "    stack = [(0, len(data) - 1)]\n",
    "\n",
    "    while stack:\n",
    "        start, end = stack.pop()\n",
    "        if start >= end:\n",
    "            continue\n",
    "\n",
    "        pivot = data[end]\n",
    "        i = start\n",
    "        for j in range(start, end):\n",
    "            if data[j] < pivot:\n",
    "                data[i], data[j] = data[j], data[i]\n",
    "                i += 1\n",
    "        data[i], data[end] = data[end], data[i]\n",
    "\n",
    "        stack.append((start, i - 1))\n",
    "        stack.append((i + 1, end))\n",
    "    return data\n",
    "\n",
    "def heap_sort(data):\n",
    "    if isinstance(data, tuple) or isinstance(data, set):\n",
    "        data = list(data)\n",
    "    n = len(data)\n",
    "    for i in range(n // 2 - 1, -1, -1):\n",
    "        heapify(data, n, i)\n",
    "\n",
    "    for i in range(n - 1, 0, -1):\n",
    "        data[0], data[i] = data[i], data[0]\n",
    "        heapify(data, i, 0)\n",
    "    return data\n",
    "\n",
    "def radix_sort(data):\n",
    "    if isinstance(data, tuple) or isinstance(data, set):\n",
    "        data = list(data)\n",
    "    if len(data) == 0:\n",
    "        return data\n",
    "\n",
    "    max_num = max(data)\n",
    "    exp = 1\n",
    "    while max_num // exp > 0:\n",
    "        counting_sort(data, exp)\n",
    "        exp *= 10\n",
    "    return data\n",
    "\n",
    "def bucket_sort(data):\n",
    "    #Must convert np array and pd Series to list because they\n",
    "    #dont have clear and extend methods\n",
    "    #Thats ok, just another quirk of the data the model will have to predict\n",
    "    if isinstance(data, (tuple, set, np.ndarray, pd.Series)):\n",
    "        data = list(data)\n",
    "    if len(data) == 0:\n",
    "        return data\n",
    "\n",
    "    min_value = min(data)\n",
    "    max_value = max(data)\n",
    "    bucket_count = len(data)\n",
    "    buckets = [[] for _ in range(bucket_count)]\n",
    "\n",
    "    for num in data:\n",
    "        index = int((num - min_value) * (bucket_count - 1) / (max_value - min_value))\n",
    "        buckets[index].append(num)\n",
    "\n",
    "    data.clear()\n",
    "    for bucket in buckets:\n",
    "        insertion_sort(bucket)\n",
    "        data.extend(bucket)\n",
    "    return data"
   ]
  },
  {
   "cell_type": "markdown",
   "id": "eeab219f",
   "metadata": {},
   "source": [
    "## Methods to load our data from csv files"
   ]
  },
  {
   "cell_type": "code",
   "execution_count": 4,
   "id": "a8847917",
   "metadata": {},
   "outputs": [],
   "source": [
    "def load_data():\n",
    "    with open('./data/data.csv', 'r') as data_file:\n",
    "        reader = csv.reader(data_file)\n",
    "        matrix = [row for row in reader]\n",
    "    return matrix\n",
    "\n",
    "def load_features():\n",
    "    with open('./data/features.csv', 'r') as data_file:\n",
    "        reader = csv.reader(data_file)\n",
    "        matrix = [row for row in reader]\n",
    "    return matrix\n",
    "\n",
    "def convert_to_data_type():\n",
    "    features = load_features()\n",
    "    data = load_data()\n",
    "    converted_data = data.copy()\n",
    "    for j in range(0, len(features)):\n",
    "        if features[j][4] == '1':\n",
    "            pass\n",
    "            #TODO: Fix\n",
    "            #converted_data[j] = array(data[j])\n",
    "        elif features[j][5] == '1':\n",
    "            converted_data[j] = list(data[j])\n",
    "        elif features[j][6] == '1':\n",
    "            converted_data[j] = tuple(data[j])\n",
    "        elif features[j][7] == '1':\n",
    "            converted_data[j] = set(data[j])\n",
    "        elif features[j][8] == '1':\n",
    "            converted_data[j] = np.array(data[j])\n",
    "        elif features[j][9] == '1':\n",
    "            converted_data[j] = pd.Series(data[j])\n",
    "    \n",
    "        if isinstance(converted_data[j], np.ndarray):\n",
    "            converted_data[j] = converted_data[j].astype(int)\n",
    "        elif isinstance(converted_data[j], list):\n",
    "            converted_data[j] = [int(x) for x in converted_data[j]]\n",
    "        elif isinstance(converted_data[j], tuple):\n",
    "            converted_data[j] = tuple(int(x) for x in converted_data[j])\n",
    "        elif isinstance(converted_data[j], set):\n",
    "            converted_data[j] = set(int(x) for x in converted_data[j])\n",
    "        elif isinstance(converted_data[j], pd.Series):\n",
    "            converted_data[j] = converted_data[j].astype(int)\n",
    "        else:\n",
    "            raise TypeError(f\"Unsupported data type: {type(converted_data[j])}\")\n",
    "\n",
    "\n",
    "    return converted_data\n"
   ]
  },
  {
   "cell_type": "markdown",
   "id": "58bb0335",
   "metadata": {},
   "source": [
    "## Methods to record and display results of sorting algorithms\n",
    "\n",
    "Running on 10 collections without multiprocessing takes: 1 min 45 seconds (105 seconds)\n",
    "\n",
    "Running on 100 collections without multiprocessing takes: \n"
   ]
  },
  {
   "cell_type": "code",
   "execution_count": null,
   "id": "9eb543dc",
   "metadata": {},
   "outputs": [
    {
     "data": {
      "application/vnd.jupyter.widget-view+json": {
       "model_id": "712f5df43e1241df912e8677d8e5cb89",
       "version_major": 2,
       "version_minor": 0
      },
      "text/plain": [
       "Datasets:   0%|          | 0/10 [00:00<?, ?dataset/s]"
      ]
     },
     "metadata": {},
     "output_type": "display_data"
    },
    {
     "data": {
      "application/vnd.jupyter.widget-view+json": {
       "model_id": "737cf5a8d0b645c298cc7dd299fefa41",
       "version_major": 2,
       "version_minor": 0
      },
      "text/plain": [
       "Sorting Dataset 1:   0%|          | 0/7 [00:00<?, ?sort/s]"
      ]
     },
     "metadata": {},
     "output_type": "display_data"
    },
    {
     "data": {
      "application/vnd.jupyter.widget-view+json": {
       "model_id": "674b88f48bc64c9b8d771a0661011dec",
       "version_major": 2,
       "version_minor": 0
      },
      "text/plain": [
       "Sorting Dataset 2:   0%|          | 0/7 [00:00<?, ?sort/s]"
      ]
     },
     "metadata": {},
     "output_type": "display_data"
    },
    {
     "data": {
      "application/vnd.jupyter.widget-view+json": {
       "model_id": "31fda0f820a74da78b59551a6e75c581",
       "version_major": 2,
       "version_minor": 0
      },
      "text/plain": [
       "Sorting Dataset 3:   0%|          | 0/7 [00:00<?, ?sort/s]"
      ]
     },
     "metadata": {},
     "output_type": "display_data"
    },
    {
     "data": {
      "application/vnd.jupyter.widget-view+json": {
       "model_id": "b8bb86a0f3bb4f6a9be19cb0109016b0",
       "version_major": 2,
       "version_minor": 0
      },
      "text/plain": [
       "Sorting Dataset 4:   0%|          | 0/7 [00:00<?, ?sort/s]"
      ]
     },
     "metadata": {},
     "output_type": "display_data"
    },
    {
     "data": {
      "application/vnd.jupyter.widget-view+json": {
       "model_id": "d4d548c6deab4247a7a6c300784c7266",
       "version_major": 2,
       "version_minor": 0
      },
      "text/plain": [
       "Sorting Dataset 5:   0%|          | 0/7 [00:00<?, ?sort/s]"
      ]
     },
     "metadata": {},
     "output_type": "display_data"
    },
    {
     "data": {
      "application/vnd.jupyter.widget-view+json": {
       "model_id": "273d76e1781942d3b17ac043c7e5284f",
       "version_major": 2,
       "version_minor": 0
      },
      "text/plain": [
       "Sorting Dataset 6:   0%|          | 0/7 [00:00<?, ?sort/s]"
      ]
     },
     "metadata": {},
     "output_type": "display_data"
    },
    {
     "data": {
      "application/vnd.jupyter.widget-view+json": {
       "model_id": "9eec605e5a8340199cd41f986bb3e674",
       "version_major": 2,
       "version_minor": 0
      },
      "text/plain": [
       "Sorting Dataset 7:   0%|          | 0/7 [00:00<?, ?sort/s]"
      ]
     },
     "metadata": {},
     "output_type": "display_data"
    },
    {
     "data": {
      "application/vnd.jupyter.widget-view+json": {
       "model_id": "180e748d531a42e882c9e36f28eba945",
       "version_major": 2,
       "version_minor": 0
      },
      "text/plain": [
       "Sorting Dataset 8:   0%|          | 0/7 [00:00<?, ?sort/s]"
      ]
     },
     "metadata": {},
     "output_type": "display_data"
    },
    {
     "data": {
      "application/vnd.jupyter.widget-view+json": {
       "model_id": "91270f6d95374a5dbc397567a30c51ac",
       "version_major": 2,
       "version_minor": 0
      },
      "text/plain": [
       "Sorting Dataset 9:   0%|          | 0/7 [00:00<?, ?sort/s]"
      ]
     },
     "metadata": {},
     "output_type": "display_data"
    },
    {
     "data": {
      "application/vnd.jupyter.widget-view+json": {
       "model_id": "f9ccea3d641646ecb7a7728b4ea2658c",
       "version_major": 2,
       "version_minor": 0
      },
      "text/plain": [
       "Sorting Dataset 10:   0%|          | 0/7 [00:00<?, ?sort/s]"
      ]
     },
     "metadata": {},
     "output_type": "display_data"
    },
    {
     "name": "stdout",
     "output_type": "stream",
     "text": [
      "   Dataset    Bubble  Insertion    Merge     Quick     Heap    Radix   Bucket\n",
      " Dataset 1  6.376637   0.001623 0.020738  3.197355 0.046633 0.843092 0.052007\n",
      " Dataset 2  0.654868   0.245273 0.006054  0.261019 0.009798 0.064619 0.002645\n",
      " Dataset 3  8.449229   0.002870 0.025780  5.692334 0.079053 0.257614 0.006440\n",
      " Dataset 4  5.177029   0.002780 0.018552  4.002104 0.063878 0.150931 0.005842\n",
      " Dataset 5  0.036435   0.014811 0.002501  0.007850 0.002682 0.006454 0.000934\n",
      " Dataset 6 22.442759   0.004290 0.044359 17.413733 0.144876 0.839602 0.015702\n",
      " Dataset 7  0.101074   0.041992 0.003156  0.017344 0.004963 0.013571 0.001463\n",
      " Dataset 8  0.462432   0.000484 0.004169  0.283591 0.014697 0.013490 0.001677\n",
      " Dataset 9 13.618844   0.003447 0.035283  9.481417 0.117404 0.473700 0.008580\n",
      "Dataset 10  0.180640   0.072203 0.005438  0.002908 0.006116 0.023295 0.002297\n"
     ]
    }
   ],
   "source": [
    "from tqdm.notebook import tqdm  # <--- Jupyter-compatible tqdm\n",
    "import time\n",
    "import pandas as pd\n",
    "\n",
    "def time_sort():\n",
    "    timing_data = []\n",
    "    data = convert_to_data_type()\n",
    "\n",
    "    outer_bar = tqdm(range(100), desc=\"Datasets\", unit=\"dataset\", position=0)\n",
    "\n",
    "    for i in outer_bar:\n",
    "        dataset_results = {}\n",
    "        dataset_results[\"Dataset\"] = f\"Dataset {i+1}\"\n",
    "        current_data = data[i]\n",
    "\n",
    "        sorts = [\n",
    "            (\"Bubble\", bubble_sort),\n",
    "            (\"Insertion\", insertion_sort),\n",
    "            (\"Merge\", merge_sort),\n",
    "            (\"Quick\", quick_sort),\n",
    "            (\"Heap\", heap_sort),\n",
    "            (\"Radix\", radix_sort),\n",
    "            (\"Bucket\", bucket_sort),\n",
    "        ]\n",
    "\n",
    "        inner_bar = tqdm(sorts, desc=f\"Sorting Dataset {i+1}\", unit=\"sort\", position=1, leave=False)\n",
    "\n",
    "        for sort_name, sort_fn in inner_bar:\n",
    "            start = time.perf_counter()\n",
    "            sort_fn(current_data)\n",
    "            end = time.perf_counter()\n",
    "            dataset_results[sort_name] = end - start\n",
    "\n",
    "        timing_data.append(dataset_results)\n",
    "\n",
    "    return timing_data\n",
    "\n",
    "df = pd.DataFrame(time_sort())\n",
    "print(df.to_string(index=False, float_format=\"{:.6f}\".format))\n"
   ]
  },
  {
   "cell_type": "code",
   "execution_count": 8,
   "id": "55aaeeb0",
   "metadata": {},
   "outputs": [
    {
     "name": "stdout",
     "output_type": "stream",
     "text": [
      "{0, 3, 4, 6, 8, 10, 14, 16, 18, 20, 22, 24, 26, 33, 35, 37, 43, 45, 47, 51, 53, 55, 56, 58, 60, 62, 66, 68, 70, 72, 74, 76, 78, 82, 83, 87, 89, 91, 93, 95, 97, 101, 105, 107, 108, 110, 112, 114, 116, 118, 124, 128, 130, 132, 134, 135, 137, 147, 149, 153, 155, 157, 159, 164, 166, 168, 170, 172, 174, 176, 180, 182, 184, 186, 191, 199, 203, 205, 211, 214, 220, 222, 228, 230, 232, 234, 236, 238, 240, 241, 251, 253, 259, 261, 263, 265, 266, 268, 270, 274, 276, 278, 282, 284, 288, 292, 293, 295, 297, 299, 301, 303, 307, 311, 313, 319, 320, 322, 324, 328, 330, 332, 334, 338, 342, 344, 345, 349, 353, 355, 363, 365, 369, 371, 372, 378, 380, 382, 384, 386, 388, 390, 392, 394, 398, 401, 403, 405, 407, 409, 411, 413, 415, 419, 423, 424, 428, 434, 436, 438, 440, 442, 448, 450, 451, 453, 455, 457, 459, 461, 463, 467, 469, 471, 475, 478, 480, 482, 484, 486, 488, 492, 494, 496, 498, 502, 505, 507, 509, 513, 515, 521, 523, 525, 527, 530, 534, 538, 540, 544, 546, 550, 552, 554, 556, 557, 561, 563, 565, 567, 573, 575, 577, 581, 582, 584, 586, 590, 594, 596, 600, 602, 608, 609, 613, 615, 619, 621, 623, 625, 627, 629, 635, 636, 638, 644, 646, 650, 656, 658, 661, 663, 667, 669, 671, 673, 677, 679, 681, 685, 687, 688, 690, 692, 694, 696, 702, 704, 706, 708, 710, 712, 714, 715, 717, 723, 725, 727, 729, 731, 735, 737, 739, 740, 742, 746, 750, 752, 756, 760, 766, 767, 769, 771, 775, 777, 781, 785, 787, 789, 793, 794, 798, 800, 802, 804, 808, 810, 812, 816, 819, 821, 823, 829, 831, 833, 835, 837, 839, 841, 848, 850, 852, 854, 856, 858, 860, 862, 866, 868, 870, 872, 873, 875, 879, 881, 883, 887, 891, 895, 897, 898, 900, 902, 906, 910, 916, 920, 922, 924, 925, 927, 929, 931, 933, 935, 937, 939, 941, 943, 945, 947, 949, 950, 952, 954, 962, 964, 966, 968, 970, 972, 974, 976, 977, 981, 985, 987, 989, 991, 993, 995, 997, 999, 1003, 1004, 1006, 1008, 1012, 1014, 1016, 1018, 1020, 1024, 1026, 1028, 1029, 1031, 1033, 1035, 1037, 1039, 1047, 1049, 1051, 1053, 1056, 1064, 1068, 1072, 1074, 1076, 1078, 1080, 1082, 1083, 1087, 1089, 1091, 1093, 1095, 1097, 1099, 1103, 1105, 1107, 1108, 1110, 1112, 1114, 1116, 1126, 1128, 1130, 1132, 1134, 1135, 1137, 1139, 1141, 1143, 1145, 1149, 1151, 1155, 1157, 1159, 1162, 1164, 1168, 1172, 1174, 1176, 1178, 1180, 1182, 1186, 1187, 1189, 1191, 1193, 1195, 1197, 1199, 1201, 1205, 1207, 1211, 1213, 1214, 1218, 1220, 1222, 1224, 1226, 1228, 1230, 1232, 1236, 1238, 1240, 1241, 1243, 1245, 1249, 1251, 1253, 1255, 1257, 1259, 1265, 1266, 1268, 1274, 1278, 1280, 1282, 1284, 1286, 1288, 1292, 1295, 1297, 1299, 1305, 1307, 1309, 1313, 1315, 1317, 1319, 1320, 1322, 1326, 1328, 1330, 1332, 1334, 1336, 1338, 1340, 1342, 1344, 1345, 1349, 1351, 1353, 1357, 1359, 1361, 1363, 1369, 1371, 1372, 1374, 1376, 1378, 1380, 1384, 1386, 1388, 1390, 1392, 1394, 1398, 1401, 1405, 1407, 1411, 1413, 1415, 1417, 1421, 1424, 1428, 1430, 1432, 1434, 1436, 1440, 1442, 1450, 1451, 1453, 1457, 1461, 1463, 1465, 1467, 1469, 1471, 1473, 1475, 1477, 1478, 1480, 1482, 1486, 1488, 1490, 1492, 1494, 1503, 1505, 1507, 1509, 1517, 1519, 1523, 1525, 1527, 1529, 1530, 1532, 1534, 1536, 1538, 1540, 1546, 1548, 1550, 1556, 1559, 1563, 1565, 1567, 1573, 1575, 1577, 1579, 1584, 1586, 1592, 1598, 1600, 1604, 1606, 1608, 1611, 1613, 1615, 1617, 1619, 1621, 1623, 1625, 1627, 1629, 1631, 1633, 1636, 1638, 1640, 1644, 1648, 1650, 1652, 1658, 1660, 1661, 1665, 1669, 1671, 1675, 1681, 1685, 1687, 1688, 1690, 1696, 1698, 1702, 1708, 1710, 1712, 1717, 1719, 1721, 1723, 1727, 1729, 1733, 1737, 1740, 1744, 1746, 1748, 1750, 1752, 1754, 1756, 1758, 1766, 1769, 1775, 1777, 1779, 1781, 1783, 1785, 1787, 1789, 1791, 1793, 1794, 1796, 1800, 1802, 1804, 1806, 1810, 1812, 1816, 1819, 1821, 1823, 1825, 1827, 1829, 1831, 1835, 1837, 1839, 1841, 1845, 1850, 1852, 1856, 1858, 1866, 1868, 1870, 1871, 1873, 1877, 1883, 1885, 1887, 1889, 1891, 1893, 1895, 1897, 1898, 1900, 1902, 1906, 1910, 1912, 1914, 1920, 1922, 1927, 1929, 1933, 1935, 1937, 1939, 1941, 1945, 1947, 1949, 1952, 1956, 1958, 1960, 1962, 1964, 1968, 1970, 1974, 1979, 1981, 1987, 1989, 1991, 1993, 1997, 2003, 2004, 2006, 2008, 2010, 2012, 2014, 2018, 2022, 2024, 2026, 2028, 2029, 2031, 2033, 2035, 2037, 2039, 2041, 2045, 2047, 2049, 2051, 2056, 2058, 2060, 2062, 2064, 2068, 2072, 2074, 2080, 2082, 2083, 2085, 2087, 2095, 2099, 2101, 2103, 2107, 2116, 2120, 2124, 2128, 2130, 2132, 2134, 2135, 2137, 2139, 2141, 2143, 2145, 2147, 2149, 2151, 2155, 2161, 2162, 2164, 2166, 2170, 2172, 2174, 2176, 2178, 2180, 2184, 2186, 2187, 2191, 2195, 2197, 2199, 2201, 2205, 2207, 2209, 2213, 2214, 2216, 2218, 2220, 2222, 2226, 2228, 2232, 2236, 2238, 2240, 2241, 2245, 2249, 2253, 2255, 2257, 2259, 2263, 2265, 2268, 2270, 2272, 2274, 2276, 2278, 2282, 2288, 2290, 2292, 2295, 2297, 2299, 2301, 2303, 2307, 2313, 2315, 2317, 2319, 2320, 2322, 2324, 2326, 2330, 2336, 2338, 2342, 2344, 2345, 2347, 2349, 2351, 2353, 2355, 2357, 2363, 2365, 2369, 2371, 2372, 2378, 2380, 2382, 2384, 2388, 2390, 2392, 2394, 2398, 2401, 2405, 2411, 2413, 2415, 2417, 2419, 2421, 2423, 2424, 2426, 2428, 2430, 2432, 2434, 2436, 2438, 2442, 2446, 2448, 2450, 2451, 2453, 2455, 2457, 2459, 2461, 2465, 2467, 2469, 2471, 2475, 2477, 2480, 2488, 2490, 2492, 2494, 2496, 2500, 2502, 2503, 2505, 2507, 2509, 2513, 2517, 2521, 2523, 2525, 2532, 2538, 2548, 2550, 2554, 2556, 2563, 2567, 2569, 2577, 2579, 2581, 2582, 2584, 2586, 2588, 2590, 2592, 2594, 2600, 2604, 2606, 2608, 2609, 2611, 2615, 2617, 2619, 2621, 2625, 2627, 2629, 2633, 2635, 2636, 2638, 2640, 2644, 2648, 2650, 2652, 2654, 2656, 2658, 2660, 2661, 2663, 2667, 2669, 2671, 2677, 2679, 2681, 2683, 2685, 2688, 2694, 2700, 2702, 2704, 2706, 2708, 2710, 2713, 2715, 2717, 2719, 2723, 2725, 2727, 2729, 2731, 2733, 2737, 2739, 2742, 2744, 2748, 2750, 2752, 2754, 2758, 2760, 2762, 2764, 2766, 2767, 2771, 2773, 2777, 2783, 2785, 2791, 2792, 2794, 2798, 2800, 2802, 2806, 2812, 2814, 2816, 2818, 2819, 2821, 2827, 2829, 2831, 2833, 2835, 2837, 2839, 2841, 2845, 2846, 2848, 2852, 2854, 2858, 2862, 2864, 2868, 2870, 2871, 2875, 2877, 2883, 2887, 2893, 2895, 2897, 2898, 2900, 2902, 2904, 2908, 2910, 2916, 2920, 2922, 2924, 2925, 2927, 2929, 2933, 2935, 2937, 2939, 2941, 2943, 2950, 2952, 2954, 2956, 2958, 2964, 2966, 2968, 2972, 2976, 2977, 2979, 2981, 2983, 2987, 2989, 2991, 2993, 2995, 3001, 3003, 3004, 3006, 3008, 3010, 3012, 3014, 3016, 3018, 3020, 3026, 3028, 3029, 3031, 3033, 3037, 3039, 3047, 3049, 3056, 3058, 3060, 3062, 3064, 3066, 3068, 3072, 3074, 3078, 3080, 3082, 3083, 3085, 3087, 3091, 3093, 3097, 3099, 3101, 3103, 3105, 3107, 3108, 3110, 3116, 3118, 3120, 3124, 3134, 3135, 3137, 3139, 3141, 3143, 3145, 3149, 3151, 3153, 3155, 3161, 3162, 3164, 3166, 3172, 3174, 3178, 3180, 3184, 3187, 3189, 3195, 3197, 3199, 3201, 3203, 3205, 3207, 3209, 3211, 3214, 3216, 3222, 3224, 3228, 3230, 3234, 3241, 3243, 3245, 3249, 3251, 3253, 3259, 3261, 3263, 3266, 3272, 3274, 3278, 3280, 3282, 3284, 3286, 3288, 3290, 3292, 3295, 3297, 3301, 3307, 3309, 3313, 3315, 3320, 3322, 3324, 3326, 3328, 3330, 3332, 3338, 3340, 3342, 3344, 3345, 3349, 3353, 3357, 3359, 3361, 3365, 3367, 3369, 3372, 3374, 3378, 3380, 3382, 3384, 3386, 3388, 3390, 3392, 3394, 3398, 3403, 3405, 3407, 3411, 3413, 3417, 3419, 3423, 3424, 3428, 3430, 3434, 3436, 3438, 3440, 3442, 3444, 3448, 3450, 3455, 3459, 3465, 3467, 3469, 3471, 3473, 3475, 3477, 3480, 3482, 3484, 3486, 3488, 3490, 3496, 3498, 3502, 3505, 3509, 3511, 3515, 3517, 3519, 3521, 3523, 3525, 3527, 3529, 3530, 3532, 3534, 3542, 3544, 3546, 3548, 3550, 3552, 3554, 3556, 3559, 3561, 3563, 3565, 3569, 3571, 3573, 3575, 3579, 3581, 3582, 3584, 3590, 3592, 3594, 3596, 3598, 3608, 3609, 3611, 3615, 3617, 3619, 3621, 3623, 3625, 3629, 3633, 3634, 3636, 3640, 3642, 3644, 3650, 3654, 3656, 3660, 3663, 3665, 3669, 3671, 3673, 3677, 3679, 3683, 3685, 3687, 3688, 3690, 3692, 3694, 3696, 3698, 3700, 3702, 3708, 3712, 3715, 3717, 3719, 3723, 3725, 3727, 3731, 3735, 3737, 3740, 3742, 3744, 3750, 3754, 3756, 3758, 3760, 3762, 3764, 3767, 3769, 3773, 3779, 3781, 3785, 3787, 3789, 3792, 3794, 3800, 3802, 3804, 3806, 3816, 3818, 3819, 3821, 3825, 3827, 3829, 3831, 3833, 3837, 3839, -3779, -3777, -3775, -3773, -3771, -3769, -3767, -3765, -3763, -3761, -3759, -3758, -3756, -3754, -3752, -3750, -3748, -3746, -3744, -3740, -3738, -3736, -3732, -3731, -3729, -3727, -3725, -3723, -3721, -3719, -3717, -3715, -3713, -3711, -3709, -3707, -3706, -3702, -3694, -3692, -3688, -3686, -3684, -3682, -3680, -3675, -3673, -3671, -3669, -3667, -3661, -3657, -3655, -3653, -3652, -3648, -3644, -3642, -3640, -3638, -3636, -3634, -3632, -3630, -3628, -3627, -3625, -3623, -3621, -3619, -3617, -3615, -3611, -3609, -3607, -3605, -3603, -3601, -3600, -3598, -3594, -3590, -3588, -3586, -3582, -3580, -3578, -3574, -3573, -3571, -3569, -3567, -3565, -3563, -3559, -3557, -3553, -3551, -3549, -3548, -3546, -3544, -3540, -3538, -3536, -3534, -3532, -3530, -3526, -3524, -3522, -3521, -3519, -3515, -3511, -3509, -3503, -3501, -3499, -3497, -3494, -3492, -3490, -3488, -3486, -3482, -3480, -3478, -3476, -3474, -3470, -3469, -3465, -3459, -3457, -3453, -3449, -3445, -3442, -3438, -3436, -3434, -3432, -3430, -3428, -3426, -3424, -3422, -3420, -3418, -3413, -3409, -3407, -3405, -3401, -3399, -3393, -3390, -3384, -3382, -3380, -3376, -3374, -3372, -3364, -3363, -3361, -3359, -3355, -3353, -3351, -3347, -3345, -3341, -3339, -3338, -3336, -3334, -3326, -3324, -3320, -3318, -3316, -3312, -3311, -3307, -3303, -3299, -3297, -3295, -3293, -3291, -3289, -3287, -3285, -3284, -3282, -3280, -3274, -3270, -3268, -3266, -3264, -3260, -3259, -3255, -3251, -3249, -3247, -3245, -3243, -3239, -3237, -3235, -3233, -3232, -3230, -3228, -3226, -3222, -3220, -3218, -3216, -3214, -3212, -3210, -3208, -3206, -3193, -3191, -3187, -3185, -3183, -3181, -3180, -3178, -3174, -3172, -3170, -3168, -3166, -3164, -3162, -3154, -3153, -3151, -3149, -3147, -3145, -3141, -3139, -3137, -3135, -3131, -3129, -3127, -3126, -3124, -3120, -3116, -3114, -3112, -3108, -3104, -3102, -3095, -3093, -3091, -3089, -3085, -3083, -3081, -3079, -3077, -3075, -3070, -3068, -3064, -3062, -3060, -3056, -3054, -3052, -3050, -3048, -3047, -3045, -3043, -3041, -3039, -3035, -3033, -3031, -3029, -3023, -3022, -3020, -3018, -3016, -3014, -3010, -3008, -3006, -3004, -3002, -3000, -2998, -2996, -2993, -2991, -2985, -2983, -2979, -2977, -2973, -2971, -2969, -2968, -2966, -2962, -2960, -2952, -2950, -2948, -2946, -2944, -2943, -2941, -2939, -2937, -2929, -2927, -2925, -2921, -2919, -2917, -2914, -2912, -2908, -2906, -2904, -2898, -2896, -2890, -2887, -2885, -2875, -2873, -2871, -2867, -2865, -2864, -2858, -2856, -2854, -2852, -2848, -2842, -2835, -2833, -2827, -2825, -2823, -2821, -2819, -2817, -2815, -2811, -2810, -2808, -2806, -2804, -2802, -2800, -2794, -2792, -2790, -2788, -2785, -2783, -2781, -2777, -2775, -2773, -2771, -2763, -2758, -2756, -2754, -2752, -2750, -2748, -2746, -2744, -2740, -2736, -2734, -2732, -2731, -2729, -2727, -2725, -2721, -2719, -2717, -2711, -2706, -2700, -2698, -2696, -2692, -2690, -2688, -2686, -2684, -2682, -2680, -2679, -2675, -2673, -2669, -2667, -2663, -2661, -2659, -2657, -2655, -2653, -2652, -2650, -2648, -2646, -2644, -2642, -2640, -2638, -2636, -2634, -2632, -2630, -2627, -2625, -2623, -2621, -2617, -2613, -2609, -2605, -2603, -2600, -2598, -2596, -2594, -2592, -2590, -2588, -2586, -2584, -2582, -2576, -2575, -2573, -2571, -2569, -2567, -2565, -2563, -2561, -2559, -2557, -2553, -2551, -2549, -2548, -2546, -2540, -2536, -2532, -2530, -2528, -2526, -2522, -2517, -2515, -2513, -2509, -2507, -2503, -2501, -2499, -2497, -2496, -2492, -2490, -2488, -2486, -2484, -2482, -2480, -2476, -2474, -2472, -2470, -2469, -2463, -2461, -2459, -2457, -2455, -2453, -2451, -2449, -2447, -2445, -2440, -2438, -2434, -2432, -2430, -2428, -2426, -2424, -2418, -2407, -2403, -2399, -2395, -2393, -2390, -2388, -2386, -2380, -2378, -2376, -2372, -2368, -2364, -2363, -2361, -2359, -2355, -2353, -2351, -2349, -2347, -2345, -2341, -2339, -2338, -2334, -2332, -2322, -2318, -2314, -2311, -2307, -2305, -2303, -2301, -2297, -2295, -2293, -2291, -2287, -2285, -2274, -2272, -2270, -2268, -2266, -2264, -2262, -2259, -2257, -2255, -2253, -2249, -2247, -2245, -2237, -2235, -2233, -2232, -2230, -2228, -2226, -2224, -2222, -2216, -2214, -2208, -2205, -2203, -2199, -2197, -2195, -2187, -2185, -2183, -2181, -2180, -2176, -2174, -2172, -2170, -2168, -2164, -2162, -2160, -2156, -2153, -2151, -2149, -2147, -2145, -2141, -2139, -2135, -2127, -2126, -2124, -2122, -2120, -2116, -2112, -2110, -2108, -2106, -2101, -2099, -2097, -2095, -2093, -2091, -2087, -2085, -2083, -2081, -2079, -2077, -2075, -2074, -2072, -2070, -2068, -2066, -2064, -2062, -2056, -2054, -2052, -2050, -2048, -2047, -2045, -2043, -2041, -2035, -2033, -2031, -2029, -2027, -2023, -2022, -2020, -2016, -2014, -2010, -2008, -2006, -2004, -2002, -2000, -1998, -1996, -1993, -1991, -1989, -1987, -1985, -1983, -1981, -1977, -1973, -1971, -1969, -1964, -1960, -1956, -1948, -1946, -1943, -1939, -1935, -1933, -1931, -1929, -1925, -1923, -1921, -1919, -1916, -1914, -1910, -1908, -1906, -1902, -1898, -1896, -1890, -1889, -1885, -1881, -1877, -1875, -1871, -1869, -1867, -1864, -1854, -1850, -1844, -1842, -1840, -1838, -1837, -1833, -1831, -1827, -1825, -1823, -1817, -1813, -1811, -1810, -1806, -1802, -1798, -1794, -1792, -1790, -1788, -1786, -1785, -1781, -1779, -1777, -1773, -1771, -1769, -1765, -1763, -1759, -1758, -1756, -1754, -1752, -1750, -1746, -1744, -1740, -1738, -1736, -1734, -1733, -1731, -1729, -1723, -1721, -1719, -1717, -1713, -1711, -1709, -1706, -1702, -1700, -1696, -1694, -1692, -1690, -1688, -1684, -1679, -1677, -1675, -1673, -1669, -1667, -1665, -1663, -1661, -1659, -1657, -1655, -1654, -1652, -1644, -1640, -1636, -1634, -1630, -1628, -1625, -1623, -1621, -1617, -1613, -1607, -1605, -1600, -1598, -1596, -1592, -1586, -1582, -1580, -1578, -1573, -1571, -1563, -1561, -1559, -1557, -1555, -1551, -1549, -1548, -1544, -1542, -1536, -1534, -1532, -1530, -1528, -1526, -1524, -1522, -1521, -1519, -1517, -1515, -1513, -1509, -1505, -1497, -1496, -1494, -1492, -1490, -1488, -1486, -1480, -1474, -1472, -1469, -1467, -1465, -1463, -1459, -1455, -1453, -1451, -1449, -1445, -1443, -1442, -1440, -1438, -1432, -1430, -1428, -1424, -1420, -1417, -1415, -1411, -1407, -1405, -1403, -1401, -1399, -1397, -1391, -1390, -1388, -1384, -1382, -1378, -1376, -1374, -1372, -1370, -1368, -1366, -1364, -1363, -1361, -1359, -1357, -1353, -1349, -1347, -1343, -1341, -1339, -1336, -1334, -1330, -1328, -1326, -1324, -1320, -1318, -1316, -1314, -1312, -1309, -1303, -1301, -1299, -1295, -1293, -1291, -1289, -1287, -1285, -1282, -1280, -1276, -1272, -1268, -1266, -1264, -1262, -1260, -1259, -1257, -1253, -1249, -1247, -1245, -1243, -1241, -1239, -1237, -1235, -1233, -1232, -1228, -1224, -1220, -1218, -1216, -1214, -1212, -1210, -1206, -1205, -1203, -1197, -1195, -1193, -1189, -1187, -1185, -1181, -1180, -1178, -1174, -1172, -1170, -1168, -1164, -1162, -1160, -1158, -1156, -1153, -1149, -1147, -1145, -1141, -1139, -1133, -1131, -1129, -1127, -1126, -1124, -1120, -1116, -1114, -1112, -1110, -1108, -1106, -1104, -1102, -1099, -1097, -1093, -1089, -1087, -1085, -1083, -1081, -1079, -1077, -1075, -1074, -1072, -1068, -1062, -1056, -1054, -1048, -1047, -1045, -1037, -1035, -1033, -1029, -1027, -1020, -1018, -1012, -1008, -1006, -1000, -998, -996, -995, -993, -991, -989, -987, -985, -981, -975, -968, -966, -962, -958, -956, -948, -946, -944, -943, -941, -939, -937, -935, -933, -929, -927, -925, -919, -917, -914, -912, -910, -908, -904, -900, -894, -890, -887, -885, -883, -877, -875, -873, -867, -865, -864, -862, -858, -856, -854, -852, -848, -846, -844, -842, -840, -837, -835, -833, -831, -829, -827, -825, -823, -821, -819, -812, -808, -806, -804, -802, -798, -796, -794, -792, -790, -788, -786, -783, -781, -779, -773, -771, -767, -765, -763, -759, -756, -752, -748, -744, -742, -738, -736, -734, -733, -731, -729, -727, -723, -721, -719, -717, -715, -711, -709, -706, -704, -702, -696, -692, -690, -688, -686, -684, -682, -679, -677, -675, -673, -671, -669, -667, -665, -663, -661, -659, -657, -655, -654, -652, -650, -648, -646, -642, -640, -638, -636, -632, -630, -628, -625, -623, -619, -617, -615, -613, -611, -609, -607, -605, -601, -600, -598, -596, -592, -590, -588, -586, -584, -582, -580, -576, -575, -569, -567, -565, -561, -559, -557, -553, -551, -549, -546, -542, -540, -536, -528, -524, -522, -521, -519, -513, -511, -509, -507, -503, -499, -496, -494, -492, -490, -488, -482, -480, -478, -476, -474, -470, -465, -463, -461, -459, -457, -455, -453, -451, -449, -447, -445, -438, -436, -432, -430, -428, -426, -422, -420, -418, -417, -413, -409, -405, -401, -399, -397, -391, -390, -388, -386, -384, -382, -380, -372, -370, -368, -366, -364, -361, -359, -357, -355, -351, -349, -343, -341, -338, -332, -330, -326, -324, -322, -320, -316, -314, -312, -309, -305, -303, -301, -299, -295, -293, -291, -289, -285, -282, -280, -278, -276, -274, -270, -268, -266, -264, -262, -257, -255, -251, -249, -245, -243, -241, -239, -237, -235, -233, -232, -226, -222, -220, -214, -210, -206, -205, -203, -199, -195, -193, -191, -185, -183, -178, -172, -170, -168, -166, -164, -160, -158, -156, -154, -153, -151, -147, -145, -143, -141, -137, -135, -129, -127, -126, -124, -122, -120, -118, -112, -110, -104, -102, -101, -99, -97, -91, -89, -87, -81, -77, -74, -72, -70, -68, -66, -62, -60, -58, -54, -48, -47, -43, -41, -39, -37, -35, -33, -31, -29, -23, -20, -16, -14, -12, -10, -8, -2}\n",
      "Dataset 1 bubble sort finished\n",
      "Dataset 1 insertion sort finished\n",
      "Dataset 1 merge sort finished\n",
      "Dataset 1 quick sort finished\n",
      "Dataset 1 heap sort finished\n",
      "Dataset 1 radix sort finished\n",
      "Dataset 1 bucket sort finished\n",
      "Dataset 2 bubble sort finished\n",
      "Dataset 2 insertion sort finished\n",
      "Dataset 2 merge sort finished\n",
      "Dataset 2 quick sort finished\n",
      "Dataset 2 heap sort finished\n",
      "Dataset 2 radix sort finished\n",
      "Dataset 2 bucket sort finished\n",
      "Dataset 3 bubble sort finished\n",
      "Dataset 3 insertion sort finished\n",
      "Dataset 3 merge sort finished\n",
      "Dataset 3 quick sort finished\n",
      "Dataset 3 heap sort finished\n",
      "Dataset 3 radix sort finished\n",
      "Dataset 3 bucket sort finished\n",
      "Dataset 4 bubble sort finished\n",
      "Dataset 4 insertion sort finished\n",
      "Dataset 4 merge sort finished\n",
      "Dataset 4 quick sort finished\n",
      "Dataset 4 heap sort finished\n",
      "Dataset 4 radix sort finished\n",
      "Dataset 4 bucket sort finished\n",
      "Dataset 5 bubble sort finished\n",
      "Dataset 5 insertion sort finished\n",
      "Dataset 5 merge sort finished\n",
      "Dataset 5 quick sort finished\n",
      "Dataset 5 heap sort finished\n",
      "Dataset 5 radix sort finished\n",
      "Dataset 5 bucket sort finished\n"
     ]
    },
    {
     "ename": "KeyboardInterrupt",
     "evalue": "",
     "output_type": "error",
     "traceback": [
      "\u001b[1;31m---------------------------------------------------------------------------\u001b[0m",
      "\u001b[1;31mKeyboardInterrupt\u001b[0m                         Traceback (most recent call last)",
      "Cell \u001b[1;32mIn[8], line 48\u001b[0m\n\u001b[0;32m     45\u001b[0m         timing_data\u001b[38;5;241m.\u001b[39mappend(dataset_results)\n\u001b[0;32m     46\u001b[0m     \u001b[38;5;28;01mreturn\u001b[39;00m timing_data\n\u001b[1;32m---> 48\u001b[0m df \u001b[38;5;241m=\u001b[39m pd\u001b[38;5;241m.\u001b[39mDataFrame(time_sort())\n\u001b[0;32m     49\u001b[0m \u001b[38;5;28mprint\u001b[39m(df\u001b[38;5;241m.\u001b[39mto_string(index\u001b[38;5;241m=\u001b[39m\u001b[38;5;28;01mFalse\u001b[39;00m, float_format\u001b[38;5;241m=\u001b[39m\u001b[38;5;124m\"\u001b[39m\u001b[38;5;132;01m{:.6f}\u001b[39;00m\u001b[38;5;124m\"\u001b[39m\u001b[38;5;241m.\u001b[39mformat))\n",
      "Cell \u001b[1;32mIn[8], line 11\u001b[0m, in \u001b[0;36mtime_sort\u001b[1;34m()\u001b[0m\n\u001b[0;32m      8\u001b[0m dataset_results[\u001b[38;5;124m\"\u001b[39m\u001b[38;5;124mDataset\u001b[39m\u001b[38;5;124m\"\u001b[39m] \u001b[38;5;241m=\u001b[39m name\n\u001b[0;32m     10\u001b[0m dataset_results[\u001b[38;5;124m\"\u001b[39m\u001b[38;5;124mBubble\u001b[39m\u001b[38;5;124m\"\u001b[39m] \u001b[38;5;241m=\u001b[39m time\u001b[38;5;241m.\u001b[39mperf_counter()\n\u001b[1;32m---> 11\u001b[0m bubble_sort(data[i])\n\u001b[0;32m     12\u001b[0m dataset_results[\u001b[38;5;124m\"\u001b[39m\u001b[38;5;124mBubble\u001b[39m\u001b[38;5;124m\"\u001b[39m] \u001b[38;5;241m=\u001b[39m time\u001b[38;5;241m.\u001b[39mperf_counter() \u001b[38;5;241m-\u001b[39m dataset_results[\u001b[38;5;124m\"\u001b[39m\u001b[38;5;124mBubble\u001b[39m\u001b[38;5;124m\"\u001b[39m]\n\u001b[0;32m     13\u001b[0m \u001b[38;5;28mprint\u001b[39m(\u001b[38;5;124mf\u001b[39m\u001b[38;5;124m\"\u001b[39m\u001b[38;5;132;01m{\u001b[39;00mname\u001b[38;5;132;01m}\u001b[39;00m\u001b[38;5;124m bubble sort finished\u001b[39m\u001b[38;5;124m\"\u001b[39m)\n",
      "Cell \u001b[1;32mIn[3], line 77\u001b[0m, in \u001b[0;36mbubble_sort\u001b[1;34m(data)\u001b[0m\n\u001b[0;32m     75\u001b[0m \u001b[38;5;28;01mfor\u001b[39;00m i \u001b[38;5;129;01min\u001b[39;00m \u001b[38;5;28mrange\u001b[39m(n):\n\u001b[0;32m     76\u001b[0m     \u001b[38;5;28;01mfor\u001b[39;00m j \u001b[38;5;129;01min\u001b[39;00m \u001b[38;5;28mrange\u001b[39m(\u001b[38;5;241m0\u001b[39m, n \u001b[38;5;241m-\u001b[39m i \u001b[38;5;241m-\u001b[39m \u001b[38;5;241m1\u001b[39m):\n\u001b[1;32m---> 77\u001b[0m         \u001b[38;5;28;01mif\u001b[39;00m data[j] \u001b[38;5;241m>\u001b[39m data[j \u001b[38;5;241m+\u001b[39m \u001b[38;5;241m1\u001b[39m]:\n\u001b[0;32m     78\u001b[0m             data[j], data[j \u001b[38;5;241m+\u001b[39m \u001b[38;5;241m1\u001b[39m] \u001b[38;5;241m=\u001b[39m data[j \u001b[38;5;241m+\u001b[39m \u001b[38;5;241m1\u001b[39m], data[j]\n\u001b[0;32m     79\u001b[0m \u001b[38;5;28;01mreturn\u001b[39;00m data\n",
      "\u001b[1;31mKeyboardInterrupt\u001b[0m: "
     ]
    }
   ],
   "source": [
    "def time_sort():\n",
    "    timing_data = []\n",
    "    data = convert_to_data_type()\n",
    "    print(data[1])\n",
    "    for i in range(10):\n",
    "        dataset_results = {}\n",
    "        name = f\"Dataset {i+1}\"\n",
    "        dataset_results[\"Dataset\"] = name\n",
    "\n",
    "        dataset_results[\"Bubble\"] = time.perf_counter()\n",
    "        bubble_sort(data[i])\n",
    "        dataset_results[\"Bubble\"] = time.perf_counter() - dataset_results[\"Bubble\"]\n",
    "        print(f\"{name} bubble sort finished\")\n",
    "\n",
    "        dataset_results[\"Insertion\"] = time.perf_counter()\n",
    "        insertion_sort(data[i])\n",
    "        dataset_results[\"Insertion\"] = time.perf_counter() - dataset_results[\"Insertion\"]\n",
    "        print(f\"{name} insertion sort finished\")\n",
    "\n",
    "        dataset_results[\"Merge\"] = time.perf_counter()\n",
    "        merge_sort(data[i])\n",
    "        dataset_results[\"Merge\"] = time.perf_counter() - dataset_results[\"Merge\"]\n",
    "        print(f\"{name} merge sort finished\")\n",
    "\n",
    "        dataset_results[\"Quick\"] = time.perf_counter()\n",
    "        quick_sort(data[i])\n",
    "        dataset_results[\"Quick\"] = time.perf_counter() - dataset_results[\"Quick\"]\n",
    "        print(f\"{name} quick sort finished\")\n",
    "\n",
    "        dataset_results[\"Heap\"] = time.perf_counter()\n",
    "        heap_sort(data[i])\n",
    "        dataset_results[\"Heap\"] = time.perf_counter() - dataset_results[\"Heap\"]\n",
    "        print(f\"{name} heap sort finished\")\n",
    "\n",
    "        dataset_results[\"Radix\"] = time.perf_counter()\n",
    "        radix_sort(data[i])\n",
    "        dataset_results[\"Radix\"] = time.perf_counter() - dataset_results[\"Radix\"]\n",
    "        print(f\"{name} radix sort finished\")\n",
    "\n",
    "        dataset_results[\"Bucket\"] = time.perf_counter()\n",
    "        bucket_sort(data[i])\n",
    "        dataset_results[\"Bucket\"] = time.perf_counter() - dataset_results[\"Bucket\"]\n",
    "        print(f\"{name} bucket sort finished\")\n",
    "\n",
    "        timing_data.append(dataset_results)\n",
    "    return timing_data\n",
    "\n",
    "df = pd.DataFrame(time_sort())\n",
    "print(df.to_string(index=False, float_format=\"{:.6f}\".format))"
   ]
  }
 ],
 "metadata": {
  "kernelspec": {
   "display_name": "base",
   "language": "python",
   "name": "python3"
  },
  "language_info": {
   "codemirror_mode": {
    "name": "ipython",
    "version": 3
   },
   "file_extension": ".py",
   "mimetype": "text/x-python",
   "name": "python",
   "nbconvert_exporter": "python",
   "pygments_lexer": "ipython3",
   "version": "3.12.9"
  }
 },
 "nbformat": 4,
 "nbformat_minor": 5
}
