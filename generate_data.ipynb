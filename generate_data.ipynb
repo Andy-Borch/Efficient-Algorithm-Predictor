{
 "cells": [
  {
   "cell_type": "code",
   "execution_count": 1,
   "id": "0983d407-6243-45e0-8d26-ad086af4c174",
   "metadata": {},
   "outputs": [],
   "source": [
    "#Generate lists, tuples, linkedLists\n",
    "#Put into csv file\n",
    "#include size, number of unique elements, etc\n",
    "#maybe create a function that determines initial sortedness without sorting\n",
    "\n",
    "import numpy as np\n",
    "import csv\n",
    "from numpy.random import default_rng\n"
   ]
  },
  {
   "cell_type": "code",
   "execution_count": 2,
   "id": "6b11ee16-00bd-427a-ad49-81446d80dd5f",
   "metadata": {},
   "outputs": [],
   "source": [
    "def generate_array(size, mean=0, std=1, n_unique=10):\n",
    "    if n_unique > size:\n",
    "        raise ValueError(\"Number of unique elements cannot exceed array size.\")\n",
    "\n",
    "    half = n_unique // 2\n",
    "    if n_unique % 2 == 0:\n",
    "        unique_vals = np.arange(-half, half)\n",
    "    else:\n",
    "        unique_vals = np.arange(-half, half + 1)\n",
    "\n",
    "    unique_vals = (unique_vals * std) + mean\n",
    "    unique_vals = unique_vals.astype(np.int64)\n",
    "\n",
    "    sampled = np.random.choice(unique_vals, size=size, replace=True)\n",
    "\n",
    "    return sampled\n",
    "\n",
    "def write_to_csv(array, filepath, mode='a'):\n",
    "    with open(filepath, mode, newline='') as f:\n",
    "        writer = csv.writer(f)\n",
    "        writer.writerow(array)\n",
    "\n",
    "def generate_data_structure_array(num_points):\n",
    "    features = np.identity(5, dtype=np.int64)\n",
    "    for x in range(int(num_points/5 - 1)):\n",
    "        new_ident = np.identity(5, dtype=np.int64)\n",
    "        features = np.concatenate((features, new_ident))\n",
    "    for y in range(num_points%5):\n",
    "        features = np.vstack((features, [1, 0, 0, 0, 0, 0]))\n",
    "    np.random.shuffle(features)\n",
    "    return features"
   ]
  },
  {
   "cell_type": "code",
   "execution_count": 3,
   "id": "551ff87f-f317-47e9-a3ce-c06df096df47",
   "metadata": {},
   "outputs": [],
   "source": [
    "min_size, max_size = 1000, 10000\n",
    "min_mean, max_mean = 10, 100\n",
    "min_stddev, max_stddev = .1, 3\n",
    "min_unique, max_unique = 0.7, 1\n",
    "num_points = 1000\n",
    "data_file = \"data/data_no_pandas.csv\"\n",
    "features_file = \"data/features_no_pandas.csv\"\n",
    "\n",
    "#Clear out CSV Files\n",
    "with open(data_file, \"w\") as file:\n",
    "    file.truncate(0)\n",
    "\n",
    "with open(features_file, \"w\") as file:\n",
    "    file.truncate(0)\n",
    "\n",
    "rng = np.random.default_rng()\n",
    "size_features = np.random.randint(min_size, max_size, size=(num_points, 1)) \n",
    "data_structure_features = generate_data_structure_array(num_points)\n",
    "\n",
    "for x in range(num_points):\n",
    "    size = np.random.randint(min_size, max_size)\n",
    "    mean = np.random.randint(min_mean, max_mean)\n",
    "    stddev = np.random.uniform(min_stddev, max_stddev)\n",
    "    percent_unique = np.random.uniform(0.7, 1)\n",
    "    num_unique = int(size * percent_unique)\n",
    "\n",
    "    arr = generate_array(size, mean, stddev, num_unique)\n",
    "    \n",
    "    write_to_csv(arr, data_file)\n",
    "    features = [size, np.mean(arr), np.std(arr), len(np.unique(arr))]\n",
    "    features = features + data_structure_features[x].tolist()\n",
    "    write_to_csv(features, features_file)\n"
   ]
  },
  {
   "cell_type": "code",
   "execution_count": null,
   "id": "58045129",
   "metadata": {},
   "outputs": [],
   "source": []
  }
 ],
 "metadata": {
  "kernelspec": {
   "display_name": "base",
   "language": "python",
   "name": "python3"
  },
  "language_info": {
   "codemirror_mode": {
    "name": "ipython",
    "version": 3
   },
   "file_extension": ".py",
   "mimetype": "text/x-python",
   "name": "python",
   "nbconvert_exporter": "python",
   "pygments_lexer": "ipython3",
   "version": "3.12.9"
  }
 },
 "nbformat": 4,
 "nbformat_minor": 5
}
